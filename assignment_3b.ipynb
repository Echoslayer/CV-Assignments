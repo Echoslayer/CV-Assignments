{
 "cells": [
  {
   "cell_type": "code",
   "execution_count": null,
   "metadata": {},
   "outputs": [],
   "source": [
    "import os\n",
    "import cv2\n",
    "import numpy as np\n",
    "import pickle\n",
    "\n",
    "# enter your code here\n",
    "\n",
    "if __name__ == '__main__':\n",
    "  data_dir = 'PetImages'\n",
    "  train_file = 'train_list.txt'\n",
    "  test_file = 'test_list.txt'\n",
    "\n",
    "  # enter your code here\n",
    "\n",
    "  print(len(train_data))\n",
    "  print(train_data[0][0].shape)\n",
    "  print(len(test_data))\n",
    "  print(test_data[0][0].shape)\n",
    "\n",
    "  save_path = 'dogs_cats.pkl'\n",
    "  print('Saving to', save_path)\n",
    "  data = {}\n",
    "  data['X_train'] = X_train\n",
    "  data['Y_train'] = Y_train\n",
    "  data['X_test'] = X_test\n",
    "  data['Y_test'] = Y_test\n",
    "  pickle.dump(data, open(save_path, 'wb'))"
   ]
  }
 ],
 "metadata": {
  "kernelspec": {
   "display_name": "Python 3",
   "language": "python",
   "name": "python3"
  },
  "language_info": {
   "codemirror_mode": {
    "name": "ipython",
    "version": 3
   },
   "file_extension": ".py",
   "mimetype": "text/x-python",
   "name": "python",
   "nbconvert_exporter": "python",
   "pygments_lexer": "ipython3",
   "version": "3.6.7"
  }
 },
 "nbformat": 4,
 "nbformat_minor": 2
}
