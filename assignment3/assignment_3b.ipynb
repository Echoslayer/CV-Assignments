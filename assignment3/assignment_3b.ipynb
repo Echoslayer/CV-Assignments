{
 "cells": [
  {
   "cell_type": "code",
   "execution_count": 3,
   "metadata": {},
   "outputs": [],
   "source": [
    "import os\n",
    "import cv2\n",
    "import numpy as np\n",
    "import pickle\n",
    "import tensorflow as tf\n",
    "from tensorflow import keras\n",
    "\n",
    "def get_data_from_file(train_file):\n",
    "  # enter your code here\n",
    "  pass\n",
    "\n",
    "def get_image_and_label(train_data):\n",
    "  # enter your code here\n",
    "  pass\n",
    "\n",
    "def assignment3b_1():\n",
    "  train_file = 'train_list.txt'\n",
    "  test_file = 'test_list.txt'\n",
    "  # enter your code here\n",
    "\n",
    "def assignment3b_2():\n",
    "  data = pickle.load(open(\"dogs_cats.pkl\",\"rb\"))\n",
    "  X_train, Y_train, X_test, Y_test = data[\"X_train\"], data[\"Y_train\"], data[\"X_test\"], data[\"Y_test\"]\n",
    "  X_train = X_train / 255.0\n",
    "  X_test = X_test / 255.0\n",
    "  # enter your code here\n",
    "\n",
    "def assignment3b_3():\n",
    "  data = pickle.load(open(\"dogs_cats.pkl\",\"rb\"))\n",
    "  X_train, Y_train, X_test, Y_test = data[\"X_train\"], data[\"Y_train\"], data[\"X_test\"], data[\"Y_test\"]\n",
    "  X_train = X_train / 255.0\n",
    "  X_test = X_test / 255.0\n",
    "  # enter your code here\n",
    "    \n",
    "data_dir = 'PetImages'\n",
    "img_size = 48\n",
    "\n",
    "if __name__ == '__main__':\n",
    "    assignment3b_1()"
   ]
  },
  {
   "cell_type": "code",
   "execution_count": 4,
   "metadata": {},
   "outputs": [],
   "source": [
    "    assignment3b_2()"
   ]
  },
  {
   "cell_type": "code",
   "execution_count": 5,
   "metadata": {},
   "outputs": [],
   "source": [
    "    assignment3b_3()"
   ]
  },
  {
   "cell_type": "code",
   "execution_count": 6,
   "metadata": {},
   "outputs": [],
   "source": [
    "# Question 3b-2\n",
    "# The test accuracy is much lower than the training accuracy. Why?\n",
    "# How can we improve the test accuracy?\n",
    "# Write down your answer here."
   ]
  },
  {
   "cell_type": "code",
   "execution_count": 7,
   "metadata": {},
   "outputs": [],
   "source": [
    "# Question 3b-3\n",
    "# Compare the test accuracy of mean_squared_error to that of sparse_categorical_crossentropy. Which one is better? Why?\n",
    "# Write down your answer here."
   ]
  }
 ],
 "metadata": {
  "kernelspec": {
   "display_name": "Python 3",
   "language": "python",
   "name": "python3"
  },
  "language_info": {
   "codemirror_mode": {
    "name": "ipython",
    "version": 3
   },
   "file_extension": ".py",
   "mimetype": "text/x-python",
   "name": "python",
   "nbconvert_exporter": "python",
   "pygments_lexer": "ipython3",
   "version": "3.6.7"
  }
 },
 "nbformat": 4,
 "nbformat_minor": 2
}
