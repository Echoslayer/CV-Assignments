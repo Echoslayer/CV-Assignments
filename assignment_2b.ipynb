{
 "cells": [
  {
   "cell_type": "code",
   "execution_count": 9,
   "metadata": {},
   "outputs": [],
   "source": [
    "import numpy as np\n",
    "import matplotlib.pyplot as plt\n",
    "%matplotlib inline\n",
    "\n",
    "def display_distributions(widths):\n",
    "  if not widths:\n",
    "     print('The input list is empty!')\n",
    "     return\n",
    "  bin_range = range(0, 201, 10)\n",
    "  n, bins, patches = plt.hist(x=widths, bins=bin_range, color='#0504aa', alpha=0.7, rwidth=0.85)\n",
    "  plt.rcParams.update({'font.size': 14})\n",
    "  plt.grid(axis='y', alpha=0.75)\n",
    "  plt.xlabel('Width')\n",
    "  plt.ylabel('Counts')\n",
    "  maxfreq = n.max()\n",
    "  plt.ylim(top=np.round(maxfreq / 10) * 10 if maxfreq % 10 else maxfreq + 10)\n",
    "  plt.show()\n",
    "\n",
    "if __name__ == '__main__':\n",
    "  anno_file = 'annotation.txt'\n",
    "  with open(anno_file, 'r') as fp:\n",
    "    lines = fp.readlines()\n",
    "  # Enter your code here (20%)\n",
    "  # You might use the following to access each line\n",
    "  # for line in lines:\n",
    "\n",
    "\n",
    "  # After you finish Step 2,\n",
    "  # you may use the following function to visualize the distribution of widths  \n",
    "  # display_distributions(widths)"
   ]
  },
  {
   "cell_type": "code",
   "execution_count": 10,
   "metadata": {},
   "outputs": [],
   "source": [
    "# The above code only considers valid bounding boxes. How many bounding boxes are invalid? Modify the above code to find the answer. (5%)\n",
    "# Write down your answer here."
   ]
  },
  {
   "cell_type": "code",
   "execution_count": 5,
   "metadata": {},
   "outputs": [],
   "source": [
    "# Discuss the types of situations that give rise to invalid bounding boxes. (5%)\n",
    "# Write down your answer here."
   ]
  }
 ],
 "metadata": {
  "kernelspec": {
   "display_name": "Python 3",
   "language": "python",
   "name": "python3"
  },
  "language_info": {
   "codemirror_mode": {
    "name": "ipython",
    "version": 3
   },
   "file_extension": ".py",
   "mimetype": "text/x-python",
   "name": "python",
   "nbconvert_exporter": "python",
   "pygments_lexer": "ipython3",
   "version": "3.6.7"
  }
 },
 "nbformat": 4,
 "nbformat_minor": 2
}
