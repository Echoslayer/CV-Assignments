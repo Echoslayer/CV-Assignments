{
 "cells": [
  {
   "cell_type": "code",
   "execution_count": null,
   "metadata": {},
   "outputs": [],
   "source": [
    "import tensorflow as tf\n",
    "from tensorflow import keras\n",
    "import numpy as np\n",
    "import matplotlib.pyplot as plt\n",
    "import os\n",
    "import random\n",
    "import pickle\n",
    "\n",
    "if __name__ == '__main__':\n",
    "  \n",
    "  data = pickle.load(open(\"dogs_cats.pkl\",\"rb\"))\n",
    "  X_train, Y_train, X_test, Y_test = data[\"X_train\"], data[\"Y_train\"], data[\"X_test\"], data[\"Y_test\"]\n",
    "  X_train = X_train / 255.0\n",
    "  X_test = X_test / 255.0\n",
    "\n",
    "  print(X_train.shape)\n",
    "  print(Y_train.shape)\n",
    "  print(X_test.shape)\n",
    "  print(Y_test.shape) "
   ]
  },
  {
   "cell_type": "code",
   "execution_count": null,
   "metadata": {},
   "outputs": [],
   "source": [
    "# The test accuracy is much lower than the training accuracy. Why?\n",
    "# How can we improve the test accuracy?\n",
    "# Write down your answer here."
   ]
  }
 ],
 "metadata": {
  "kernelspec": {
   "display_name": "Python 3",
   "language": "python",
   "name": "python3"
  },
  "language_info": {
   "codemirror_mode": {
    "name": "ipython",
    "version": 3
   },
   "file_extension": ".py",
   "mimetype": "text/x-python",
   "name": "python",
   "nbconvert_exporter": "python",
   "pygments_lexer": "ipython3",
   "version": "3.6.7"
  }
 },
 "nbformat": 4,
 "nbformat_minor": 2
}
